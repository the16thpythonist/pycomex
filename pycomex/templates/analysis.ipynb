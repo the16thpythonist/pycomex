{
 "cells": [
  {
   "cell_type": "markdown",
   "id": "85192216",
   "metadata": {},
   "source": [
    "# Experiment Analysis\n",
    "\n",
    "This notebook is used to analyze the results of certain experiments which can be found in the pycomex experiment archive located at the ``RESULTS_PATH`` directory."
   ]
  },
  {
   "cell_type": "code",
   "execution_count": null,
   "id": "b7519e30",
   "metadata": {},
   "outputs": [],
   "source": [
    "import os\n",
    "import time\n",
    "import json\n",
    "from collections import defaultdict\n",
    "\n",
    "import numpy as np\n",
    "import matplotlib.pyplot as plt\n",
    "from IPython.display import display, Latex\n",
    "from rich.pretty import pprint\n",
    "from pycomex.utils import is_experiment_archive\n",
    "from pycomex.utils import render_string_table\n",
    "from pycomex.functional.experiment import Experiment\n",
    "\n",
    "# This will be the path to the directory in which the notebook is located.\n",
    "PATH: str = os.getcwd()\n",
    "# This will have to be the path to the pycomex \"results\" directory containing the \n",
    "# experiment archives of interest.\n",
    "# HAS TO BE CHANGED, if the analysis is not located in the same directory as the results\n",
    "# folder.\n",
    "RESULTS_PATH: str = os.path.join(PATH, 'results')"
   ]
  },
  {
   "cell_type": "code",
   "execution_count": null,
   "id": "61cf40c9",
   "metadata": {},
   "outputs": [],
   "source": [
    "\n",
    "# Filter which experiments will be loaded based on their name and/or parameters.\n",
    "def select_experiment(experiment_name: str,\n",
    "                      experiment_metadata: dict,\n",
    "                      experiment_parameters: dict\n",
    "                      ) -> bool:\n",
    "    raise NotImplemented()\n",
    "\n",
    "\n",
    "# Assign a unique key to the experiment based on its data / parameters etc.\n",
    "# Later on the experiments will be sorted based on this key which will be the \n",
    "# key of a dictionary and the values will be a list of all the experiments with \n",
    "# that same key.\n",
    "def sort_experiment(experiment: Experiment) -> tuple:\n",
    "    raise NotImplemented()"
   ]
  },
  {
   "cell_type": "markdown",
   "id": "ae244c14",
   "metadata": {},
   "source": [
    "### Experiment Discovery\n",
    "\n",
    "The following cell will first discover all of the previously executed experiment runs which have been archived in the given results directory. It will then print the number of experiments found."
   ]
  },
  {
   "cell_type": "code",
   "execution_count": null,
   "id": "6843db02",
   "metadata": {},
   "outputs": [],
   "source": [
    "# This list will contain the paths to the individual expeirment *namespaces* which in \n",
    "# turn contain the actual individual experiment archives.\n",
    "experiment_namespace_paths: list[str] = [\n",
    "    path\n",
    "    for file_name in os.listdir(RESULTS_PATH)\n",
    "    if os.path.isdir(path := os.path.join(RESULTS_PATH, file_name))\n",
    "]\n",
    "\n",
    "# Subsequently, this list will contain the paths to the individual experiment archives\n",
    "# folders.\n",
    "experiment_paths: list[str] = []\n",
    "for namespace_path in experiment_namespace_paths:\n",
    "    for dirpath, dirnames, filenames in os.walk(namespace_path):\n",
    "        if is_experiment_archive(dirpath):\n",
    "            experiment_paths.append(dirpath)\n",
    "            dirnames.clear() # Prevents further recursion into subdirectories\n",
    "        \n",
    "print(f'✅ found {len(experiment_paths)} experiment archives in {len(experiment_namespace_paths)} namespaces')\n",
    "pprint(experiment_paths, max_length=3)"
   ]
  },
  {
   "cell_type": "markdown",
   "id": "b3bdb051",
   "metadata": {},
   "source": [
    "### Experiment Loading\n",
    "\n",
    "The following cell will then load the experiment runs into memory selectively based on the previously defined ``select_experiment`` function. Only experiments for which the function returns ``True`` will be loaded into memory. The loaded experiments will actually be restored from the archive by loading the parameters as well as the data back into a ``pycomex.experiment.Experiment`` object."
   ]
  },
  {
   "cell_type": "code",
   "execution_count": null,
   "id": "3549e3b9",
   "metadata": {},
   "outputs": [],
   "source": [
    "# This list will be populated with the actual Experiment instances which will \n",
    "# be loaded from the experiment archive folders.\n",
    "experiments: list[Experiment] = []\n",
    "\n",
    "print(f'Loading experiments from archives...')\n",
    "print(f'Iterating over {len(experiment_paths)} experiment paths')\n",
    "time_start: float = time.time()\n",
    "for experiment_path in experiment_paths:\n",
    "    \n",
    "    experiment_identifier: str = os.path.basename(experiment_path)\n",
    "    \n",
    "    experiment_data_path = os.path.join(experiment_path, Experiment.DATA_FILE_NAME)\n",
    "    if not os.path.exists(experiment_data_path):\n",
    "        print(f'   ⚠️ Skipping experiment \"{experiment_identifier}\" - no data found')\n",
    "        continue\n",
    "    \n",
    "    experiment_meta_path = os.path.join(experiment_path, Experiment.METADATA_FILE_NAME)\n",
    "    if not os.path.exists(experiment_meta_path):\n",
    "        print(f'   ⚠️ Skipping experiment \"{experiment_identifier}\" - no metadata found')\n",
    "        continue\n",
    "    \n",
    "    with open(experiment_meta_path) as file:\n",
    "        content = file.read()\n",
    "        # This will contain the experiment metadata as a dictionary which we can now use to\n",
    "        # filter for instance.\n",
    "        experiment_metadata: dict = json.loads(content)\n",
    "        \n",
    "    if 'parameters' not in experiment_metadata:\n",
    "        print(f'   ⚠️ Skipping experiment \"{experiment_identifier}\" - no parameters found')\n",
    "        continue\n",
    "    \n",
    "    experiment_parameters: dict = {\n",
    "        param: info['value']\n",
    "        for param, info in experiment_metadata['parameters'].items()\n",
    "        if 'value' in info\n",
    "    }\n",
    "    \n",
    "    # Here we apply the filter to determine whether or not the experiment should be included\n",
    "    # in the analysis.\n",
    "    condition: bool = select_experiment(\n",
    "        experiment_name=experiment_metadata['name'],\n",
    "        experiment_metadata=experiment_metadata,\n",
    "        experiment_parameters=experiment_parameters\n",
    "    )\n",
    "    \n",
    "    if condition:\n",
    "        try:\n",
    "            print(f'   > included experiment \"{experiment_identifier}\"')\n",
    "            experiment: Experiment = Experiment.load(experiment_path)\n",
    "            experiments.append(experiment)\n",
    "        except Exception as e:\n",
    "            print(f'   ⚠️ Failed to load experiment \"{experiment_identifier}\" - Exception: {e}')\n",
    "    \n",
    "            \n",
    "time_end: float = time.time()\n",
    "duration: float = time_end - time_start\n",
    "print(f'✅ Loaded {len(experiments)} experiments in {duration:.2f} seconds')"
   ]
  },
  {
   "cell_type": "code",
   "execution_count": null,
   "id": "3e9a6374",
   "metadata": {},
   "outputs": [],
   "source": [
    "example_experiment: Experiment = experiments[0] if experiments else None\n",
    "pprint(example_experiment.data, max_length=10)"
   ]
  },
  {
   "cell_type": "markdown",
   "id": "54d8743a",
   "metadata": {},
   "source": [
    "### Experiment Sorting\n",
    "\n",
    "The following cell will sort the - currently still unsorted - experiment list by a custom criteria defined in the ``sort_experiments`` function. This is done by putting all the experiments into the same list for which this function returns the same index tuple. The result is the ``key_experiment_map`` dictionary data structure which maps the index tuple to a list of experiments."
   ]
  },
  {
   "cell_type": "code",
   "execution_count": null,
   "id": "812e3aac",
   "metadata": {},
   "outputs": [],
   "source": [
    "# This will be a dictionary mapping the unique key of the experiment to a list of\n",
    "# experiments which share that key. This will allow us to group experiments based on\n",
    "# their parameters or other attributes.\n",
    "key_experiment_map: dict[tuple, list[Experiment]] = defaultdict(list)\n",
    "\n",
    "for experiment in experiments:\n",
    "    key: tuple = sort_experiment(experiment)\n",
    "    key_experiment_map[key].append(experiment)\n",
    "    \n",
    "pprint(key_experiment_map, max_length=3)"
   ]
  },
  {
   "cell_type": "markdown",
   "id": "51181478",
   "metadata": {},
   "source": [
    "### Experiment Result Table\n",
    "\n",
    "The following cell illustrates how to create a table from the aggregated results of many loaded experiments, which is a common use case of the analysis."
   ]
  },
  {
   "cell_type": "code",
   "execution_count": null,
   "id": "c798cc5b",
   "metadata": {},
   "outputs": [],
   "source": [
    "from prettytable import PrettyTable\n",
    "\n",
    "table = PrettyTable()\n",
    "table.field_names = ['Key', 'Runtime']\n",
    "\n",
    "for key, experiments in key_experiment_map.items():\n",
    "    \n",
    "    row = [\n",
    "        str(key),\n",
    "        np.mean([exp.metadata['duration'] for exp in experiments])\n",
    "    ]\n",
    "    table.add_row(row)\n",
    "    \n",
    "print(table.get_string())"
   ]
  }
 ],
 "metadata": {
  "language_info": {
   "name": "python"
  }
 },
 "nbformat": 4,
 "nbformat_minor": 5
}
